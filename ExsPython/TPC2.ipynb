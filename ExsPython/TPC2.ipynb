{
  "nbformat": 4,
  "nbformat_minor": 0,
  "metadata": {
    "colab": {
      "name": "TPC2.ipynb",
      "version": "0.3.2",
      "provenance": [],
      "collapsed_sections": []
    },
    "kernelspec": {
      "name": "python3",
      "display_name": "Python 3"
    }
  },
  "cells": [
    {
      "metadata": {
        "id": "OtUULc4R0kKM",
        "colab_type": "code",
        "colab": {
          "base_uri": "https://localhost:8080/",
          "height": 34
        },
        "outputId": "9c783624-cb60-407f-882d-34ed3f4ea08a"
      },
      "cell_type": "code",
      "source": [
        "#Definição da Lista\n",
        "A = [\"1P\", \"1C\", \"1O\", \"2P\", \"2C\", \"2O\", \"2E\", \"3P\", \"3C\", \"3O\", \n",
        "     \"3E\", \"4P\", \"4C\", \"4O\", \"4E\", \"5P\", \"5C\", \"5O\", \"5E\", \"6P\", \"6C\", \"6O\", \n",
        "     \"6E\", \"7P\", \"7C\", \"7O\", \"7E\", \"8P\", \"8C\", \"8O\", \"8E\", \"9P\", \"9C\", \"9O\", \"9E\", \"DP\", \n",
        "     \"DC\", \"DO\", \"DE\", \"JP\", \"JC\", \"JO\", \"JE\", \"VP\", \"VC\", \"VO\", \"VE\", \"RP\", \"RC\", \"RO\", \"RE\", \n",
        "     \"1P\", \"1C\", \"1O\", \"1E\", \"2P\", \"2C\", \"2O\", \"2E\", \"3P\", \"3C\", \"3O\", \"3E\", \n",
        "     \"4P\", \"4C\", \"4O\", \"4E\", \"5P\", \"5C\", \"5O\", \"5E\", \"6P\", \"6C\", \"6O\", \"6E\", \"7P\", \"7C\", \n",
        "     \"7O\", \"7E\", \"8P\", \"8C\", \"8O\", \"8E\", \"9P\", \"9C\", \"9O\", \"9E\", \"DP\", \"DC\", \"DO\", \"DE\", \n",
        "     \"JP\", \"JC\", \"JO\", \"JE\", \"VP\", \"VC\", \"VO\", \"VE\", \"RP\", \"RC\", \"RO\", \"RE\", \"1P\", \"1C\", \n",
        "     \"1O\", \"1E\", \"2P\", \"2C\", \"2O\", \"2E\", \"3P\", \"3C\", \"3O\", \"3E\", \"4P\", \"4C\", \"4O\", \"4E\", \n",
        "     \"5P\", \"5C\", \"5O\", \"5E\", \"6P\", \"6C\", \"6O\", \"6E\", \"7P\", \"7C\", \"7O\", \"7E\", \"8P\", \"8C\", \n",
        "     \"8O\", \"8E\", \"9P\", \"9C\", \"9O\", \"9E\", \"DP\", \"DC\", \"DO\", \"DE\", \"JP\", \"JC\", \"JO\", \"JE\", \n",
        "     \"VP\", \"VC\", \"VO\", \"VE\", \"RP\", \"RC\", \"RO\", \"RE\"]\n",
        "\n",
        "#Função\n",
        "def agrupar(N):\n",
        "  \n",
        "  #Array onde vamos o número de cartas de cada tipo\n",
        "  conta_array=[0, 0, 0, 0, 0, 0, 0, 0, 0, 0, 0, 0, 0, 0, 0, 0, 0, 0, 0, 0, 0, 0, 0, 0, 0, 0, 0, 0, 0, 0, 0, 0, 0, 0, 0, 0, 0, 0, 0, 0, 0, 0, 0, 0, 0, 0, 0, 0, 0, 0, 0, 0]\n",
        "  \n",
        "  #Array onde vamos guardar o tipo de cartas que já vimos\n",
        "  side_array=[\"1P\", \"2P\", \"3P\", \"4P\", \"5P\", \"6P\", \"7P\", \"8P\", \"9P\", \"10P\", \"DP\", \"VP\", \"RP\", \"1C\", \"2C\", \"3C\", \"4C\", \"5C\", \"6C\", \"7C\", \"8C\", \"9C\", \"10C\", \"DC\", \"VC\", \"RC\",\n",
        "               \"1E\", \"2E\", \"3E\", \"4E\", \"5E\", \"6E\", \"7E\", \"8E\", \"9E\", \"10E\", \"DE\", \"VE\", \"RE\", \"1O\", \"2O\", \"3O\", \"4O\", \"5O\", \"6O\", \"7O\", \"8O\", \"9O\", \"10O\", \"DO\", \"VO\", \"RO\" ]\n",
        "  \n",
        "  #Percorrer a lista\n",
        "  for n in N:\n",
        "    \n",
        "    #percorrer o array\n",
        "    for counter, m in enumerate(side_array):\n",
        "      \n",
        "      #Verificar se a carta atual ja existe\n",
        "      if n == m:\n",
        "        \n",
        "        #Se existir, adicionar um contador a essa carta\n",
        "        conta_array[counter] =+ 1\n",
        "        \n",
        "  #Percorrer o Array Contador e procurar o menor valor, este será o número de baralhos que temos na lista percorrida\n",
        "  lower = conta_array[0]\n",
        "  for j in conta_array:\n",
        "    if j < lower:\n",
        "      lower = j\n",
        "  \n",
        "  print(lower)\n",
        "  \n",
        "agrupar(A)"
      ],
      "execution_count": 5,
      "outputs": [
        {
          "output_type": "stream",
          "text": [
            "0\n"
          ],
          "name": "stdout"
        }
      ]
    }
  ]
}