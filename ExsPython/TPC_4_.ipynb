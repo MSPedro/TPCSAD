{
  "nbformat": 4,
  "nbformat_minor": 0,
  "metadata": {
    "colab": {
      "name": "TPC_4 .ipynb",
      "version": "0.3.2",
      "provenance": []
    },
    "kernelspec": {
      "display_name": "SADenv",
      "language": "python",
      "name": "sadenv"
    }
  },
  "cells": [
    {
      "metadata": {
        "id": "FqIG1IJu4u_x",
        "colab_type": "text"
      },
      "cell_type": "markdown",
      "source": [
        "# SAD - TPC 4\n",
        "\n",
        "### Aplicar Algoritmos\n",
        "\n",
        "----\n",
        "\n",
        "\n",
        "- Usando sklearn correr os métodos Decision Tree, Random Forrest e Naive Bayes para o dataset Digits, definido em baixo;\n",
        "\n",
        "- Usar o training set para executar o treino do modelo;\n",
        "\n",
        "- Comparar o erro obtido em cada método, para o testset e para o training set e expecificar se os valores são os esperados;\n",
        "\n",
        "- Para um dos algoritmos, dar exemplos do test set de instâncias mal bem classificadas (2 de cada);\n",
        "\n",
        "O DataSet de dígitos pode ser carregado assim:"
      ]
    },
    {
      "metadata": {
        "id": "P6YJf_d-7ZOL",
        "colab_type": "code",
        "colab": {}
      },
      "cell_type": "code",
      "source": [
        "# Imports\n",
        "from sklearn import datasets, tree, model_selection\n",
        "from sklearn.ensemble import RandomForestClassifier\n",
        "from sklearn.naive_bayes import GaussianNB\n",
        "import pandas as pd\n",
        "import numpy as np\n",
        "import matplotlib.pyplot as plt"
      ],
      "execution_count": 0,
      "outputs": []
    },
    {
      "metadata": {
        "id": "NOo7m3Mv4u_0",
        "colab_type": "code",
        "colab": {}
      },
      "cell_type": "code",
      "source": [
        "# The digits dataset\n",
        "digits = datasets.load_digits()"
      ],
      "execution_count": 0,
      "outputs": []
    },
    {
      "metadata": {
        "id": "yZvOArgv45GM",
        "colab_type": "code",
        "outputId": "2d67ba5d-2150-43bc-a7c2-f6422e499c4d",
        "colab": {
          "base_uri": "https://localhost:8080/",
          "height": 306
        }
      },
      "cell_type": "code",
      "source": [
        "!python3 -m pip install graphviz\n",
        "!python3 -m pip install pydot\n",
        "!apt-get install graphviz\n",
        "!python2 -m pip install graphviz\n",
        "!python2 -m pip install pydot"
      ],
      "execution_count": 0,
      "outputs": [
        {
          "output_type": "stream",
          "text": [
            "Requirement already satisfied: graphviz in /usr/local/lib/python3.6/dist-packages (0.10.1)\n",
            "Requirement already satisfied: pydot in /usr/local/lib/python3.6/dist-packages (1.3.0)\n",
            "Requirement already satisfied: pyparsing>=2.1.4 in /usr/local/lib/python3.6/dist-packages (from pydot) (2.3.0)\n",
            "Reading package lists... Done\n",
            "Building dependency tree       \n",
            "Reading state information... Done\n",
            "graphviz is already the newest version (2.40.1-2).\n",
            "0 upgraded, 0 newly installed, 0 to remove and 5 not upgraded.\n",
            "Collecting graphviz\n",
            "  Using cached https://files.pythonhosted.org/packages/1f/e2/ef2581b5b86625657afd32030f90cf2717456c1d2b711ba074bf007c0f1a/graphviz-0.10.1-py2.py3-none-any.whl\n",
            "Installing collected packages: graphviz\n",
            "Successfully installed graphviz-0.10.1\n",
            "Collecting pydot\n",
            "  Using cached https://files.pythonhosted.org/packages/50/da/68cee64ad379462abb743ffb665fa34b214df85d263565ad2bd512c2d935/pydot-1.3.0-py2.py3-none-any.whl\n",
            "Requirement already satisfied: pyparsing>=2.1.4 in /usr/local/lib/python2.7/dist-packages (from pydot) (2.3.0)\n",
            "Installing collected packages: pydot\n",
            "Successfully installed pydot-1.3.0\n"
          ],
          "name": "stdout"
        }
      ]
    },
    {
      "metadata": {
        "id": "A4oUqJ_7409E",
        "colab_type": "code",
        "outputId": "99cd3f59-753d-4521-ca21-9de69926caa0",
        "colab": {
          "base_uri": "https://localhost:8080/",
          "height": 196
        }
      },
      "cell_type": "code",
      "source": [
        "import graphviz\n",
        "\n",
        "graph = graphviz.Digraph()\n",
        "graph.node('A', 'Marital Status', shape=\"ellipse\")\n",
        "#graph.node('E', 'Default=No', shape=\"ellipse\", style='filled')\n",
        "graph.node('B1', 'Class Value', shape=\"rectangle\")\n",
        "graph.node('B2', 'Class Value', shape=\"rectangle\")\n",
        "graph.node('B3', 'Class Value', shape=\"rectangle\")\n",
        "graph.edge(\"A\", \"B1\", \" Married\")\n",
        "graph.edge(\"A\", \"B2\", \" Divorced\")\n",
        "graph.edge(\"A\", \"B3\", \" Single\")\n",
        "graph"
      ],
      "execution_count": 0,
      "outputs": [
        {
          "output_type": "execute_result",
          "data": {
            "text/plain": [
              "<graphviz.dot.Digraph at 0x7fd12047f950>"
            ],
            "image/svg+xml": "<?xml version=\"1.0\" encoding=\"UTF-8\" standalone=\"no\"?>\n<!DOCTYPE svg PUBLIC \"-//W3C//DTD SVG 1.1//EN\"\n \"http://www.w3.org/Graphics/SVG/1.1/DTD/svg11.dtd\">\n<!-- Generated by graphviz version 2.40.1 (20161225.0304)\n -->\n<!-- Title: %3 Pages: 1 -->\n<svg width=\"293pt\" height=\"131pt\"\n viewBox=\"0.00 0.00 293.00 131.00\" xmlns=\"http://www.w3.org/2000/svg\" xmlns:xlink=\"http://www.w3.org/1999/xlink\">\n<g id=\"graph0\" class=\"graph\" transform=\"scale(1 1) rotate(0) translate(4 127)\">\n<title>%3</title>\n<polygon fill=\"#ffffff\" stroke=\"transparent\" points=\"-4,4 -4,-127 289,-127 289,4 -4,4\"/>\n<!-- A -->\n<g id=\"node1\" class=\"node\">\n<title>A</title>\n<ellipse fill=\"none\" stroke=\"#000000\" cx=\"142.5\" cy=\"-105\" rx=\"61.99\" ry=\"18\"/>\n<text text-anchor=\"middle\" x=\"142.5\" y=\"-101.3\" font-family=\"Times,serif\" font-size=\"14.00\" fill=\"#000000\">Marital Status</text>\n</g>\n<!-- B1 -->\n<g id=\"node2\" class=\"node\">\n<title>B1</title>\n<polygon fill=\"none\" stroke=\"#000000\" points=\"83,-36 0,-36 0,0 83,0 83,-36\"/>\n<text text-anchor=\"middle\" x=\"41.5\" y=\"-14.3\" font-family=\"Times,serif\" font-size=\"14.00\" fill=\"#000000\">Class Value</text>\n</g>\n<!-- A&#45;&gt;B1 -->\n<g id=\"edge1\" class=\"edge\">\n<title>A&#45;&gt;B1</title>\n<path fill=\"none\" stroke=\"#000000\" d=\"M116.0616,-88.6917C107.3067,-82.8659 97.7093,-76.0017 89.5,-69 80.5755,-61.3883 71.561,-52.2712 63.7916,-43.8641\"/>\n<polygon fill=\"#000000\" stroke=\"#000000\" points=\"66.3491,-41.474 57.0448,-36.4064 61.1582,-46.1702 66.3491,-41.474\"/>\n<text text-anchor=\"middle\" x=\"114\" y=\"-57.8\" font-family=\"Times,serif\" font-size=\"14.00\" fill=\"#000000\"> Married</text>\n</g>\n<!-- B2 -->\n<g id=\"node3\" class=\"node\">\n<title>B2</title>\n<polygon fill=\"none\" stroke=\"#000000\" points=\"184,-36 101,-36 101,0 184,0 184,-36\"/>\n<text text-anchor=\"middle\" x=\"142.5\" y=\"-14.3\" font-family=\"Times,serif\" font-size=\"14.00\" fill=\"#000000\">Class Value</text>\n</g>\n<!-- A&#45;&gt;B2 -->\n<g id=\"edge2\" class=\"edge\">\n<title>A&#45;&gt;B2</title>\n<path fill=\"none\" stroke=\"#000000\" d=\"M142.5,-86.9735C142.5,-75.1918 142.5,-59.5607 142.5,-46.1581\"/>\n<polygon fill=\"#000000\" stroke=\"#000000\" points=\"146.0001,-46.0033 142.5,-36.0034 139.0001,-46.0034 146.0001,-46.0033\"/>\n<text text-anchor=\"middle\" x=\"171.5\" y=\"-57.8\" font-family=\"Times,serif\" font-size=\"14.00\" fill=\"#000000\"> Divorced</text>\n</g>\n<!-- B3 -->\n<g id=\"node4\" class=\"node\">\n<title>B3</title>\n<polygon fill=\"none\" stroke=\"#000000\" points=\"285,-36 202,-36 202,0 285,0 285,-36\"/>\n<text text-anchor=\"middle\" x=\"243.5\" y=\"-14.3\" font-family=\"Times,serif\" font-size=\"14.00\" fill=\"#000000\">Class Value</text>\n</g>\n<!-- A&#45;&gt;B3 -->\n<g id=\"edge3\" class=\"edge\">\n<title>A&#45;&gt;B3</title>\n<path fill=\"none\" stroke=\"#000000\" d=\"M174.693,-89.466C184.8001,-83.787 195.6259,-76.8147 204.5,-69 212.4468,-62.0018 219.8663,-53.1743 226.0555,-44.839\"/>\n<polygon fill=\"#000000\" stroke=\"#000000\" points=\"229.0925,-46.6075 232.0305,-36.4281 223.3858,-42.5535 229.0925,-46.6075\"/>\n<text text-anchor=\"middle\" x=\"238\" y=\"-57.8\" font-family=\"Times,serif\" font-size=\"14.00\" fill=\"#000000\"> Single</text>\n</g>\n</g>\n</svg>\n"
          },
          "metadata": {
            "tags": []
          },
          "execution_count": 9
        }
      ]
    },
    {
      "metadata": {
        "id": "19bM92Wx6mnl",
        "colab_type": "code",
        "outputId": "ff3dbd12-9d23-49e7-ce1a-01a09e10cb8d",
        "colab": {
          "base_uri": "https://localhost:8080/",
          "height": 68
        }
      },
      "cell_type": "code",
      "source": [
        "# Decision Tree\n",
        "\n",
        "[features_train, features_test, classes_train, classes_test] = model_selection.train_test_split(digits.data, digits.target, test_size=0.3)\n",
        "model = tree.DecisionTreeClassifier()\n",
        "\n",
        "clf = model.fit(features_train, classes_train)\n",
        "score_train = model.score(features_train, classes_train)\n",
        "score_test = model.score(features_test, classes_test)\n",
        "\n",
        "print(\"Features:\", digits.target_names)\n",
        "print(\"score_train:\", score_train)\n",
        "print(\"score_test:\", score_test)"
      ],
      "execution_count": 0,
      "outputs": [
        {
          "output_type": "stream",
          "text": [
            "('Features:', array([0, 1, 2, 3, 4, 5, 6, 7, 8, 9]))\n",
            "('score_train:', 1.0)\n",
            "('score_test:', 0.8425925925925926)\n"
          ],
          "name": "stdout"
        }
      ]
    },
    {
      "metadata": {
        "id": "5yxnToBOMBCu",
        "colab_type": "code",
        "outputId": "51978add-d7a4-4d9c-9b61-4591e4c43dd0",
        "colab": {
          "base_uri": "https://localhost:8080/",
          "height": 68
        }
      },
      "cell_type": "code",
      "source": [
        "# Random Forrest\n",
        "\n",
        "[features_train, features_test, classes_train, classes_test] = model_selection.train_test_split(digits.data, digits.target, test_size=0.3)\n",
        "model = RandomForestClassifier(n_estimators=1000)\n",
        "\n",
        "clf = model.fit(features_train, classes_train)\n",
        "score_train = model.score(features_train, classes_train)\n",
        "score_test = model.score(features_test, classes_test)\n",
        "\n",
        "print(\"Features:\", digits.target_names)\n",
        "print(\"score_train:\", score_train)\n",
        "print(\"score_test:\", score_test)"
      ],
      "execution_count": 0,
      "outputs": [
        {
          "output_type": "stream",
          "text": [
            "('Features:', array([0, 1, 2, 3, 4, 5, 6, 7, 8, 9]))\n",
            "('score_train:', 1.0)\n",
            "('score_test:', 0.975925925925926)\n"
          ],
          "name": "stdout"
        }
      ]
    },
    {
      "metadata": {
        "id": "S5TgjC58OCqn",
        "colab_type": "code",
        "outputId": "7a553f68-b0b3-4962-9dec-edc1050862a1",
        "colab": {
          "base_uri": "https://localhost:8080/",
          "height": 68
        }
      },
      "cell_type": "code",
      "source": [
        "# Naive Bayes\n",
        "\n",
        "[features_train, features_test, classes_train, classes_test] = model_selection.train_test_split(digits.data, digits.target, test_size=0.3)\n",
        "model = GaussianNB()\n",
        "\n",
        "clf = model.fit(features_train, classes_train)\n",
        "score_train = model.score(features_train, classes_train)\n",
        "score_test = model.score(features_test, classes_test)\n",
        "\n",
        "print(\"Features:\", digits.target_names)\n",
        "print(\"score_train:\", score_train)\n",
        "print(\"score_test:\", score_test)"
      ],
      "execution_count": 0,
      "outputs": [
        {
          "output_type": "stream",
          "text": [
            "('Features:', array([0, 1, 2, 3, 4, 5, 6, 7, 8, 9]))\n",
            "('score_train:', 0.8353221957040573)\n",
            "('score_test:', 0.8351851851851851)\n"
          ],
          "name": "stdout"
        }
      ]
    }
  ]
}